{
  "nbformat": 4,
  "nbformat_minor": 0,
  "metadata": {
    "colab": {
      "provenance": []
    },
    "kernelspec": {
      "name": "python3",
      "display_name": "Python 3"
    },
    "language_info": {
      "name": "python"
    }
  },
  "cells": [
    {
      "cell_type": "markdown",
      "source": [
        "## Keyword Similarity"
      ],
      "metadata": {
        "id": "mpjxSVXvySXF"
      }
    },
    {
      "cell_type": "code",
      "execution_count": 68,
      "metadata": {
        "colab": {
          "base_uri": "https://localhost:8080/"
        },
        "id": "QTuJypbZg1in",
        "outputId": "62a61700-2a4f-40e8-af12-a4e56a3cd662"
      },
      "outputs": [
        {
          "output_type": "stream",
          "name": "stdout",
          "text": [
            "Requirement already satisfied: rank_bm25 in /usr/local/lib/python3.10/dist-packages (0.2.2)\n",
            "Requirement already satisfied: numpy in /usr/local/lib/python3.10/dist-packages (from rank_bm25) (1.26.4)\n"
          ]
        }
      ],
      "source": [
        "!pip install rank_bm25"
      ]
    },
    {
      "cell_type": "code",
      "source": [
        "from rank_bm25 import BM25Okapi\n",
        "\n",
        "corpus = [\n",
        "\n",
        "    \"The cat, commonly referred to as the domestic cat or house cat, is a small domesticated carnivorous mammal.\",\n",
        "    \"The dog is a domesticated descendant of the wolf.\",\n",
        "    \"Humans are the most common and widespread species of primate, and the last surviving species of the genus Homo.\",\n",
        "    \"The scientific name Felis catus was proposed by Carl Linnaeus in 1758\"\n",
        "\n",
        "]\n",
        "\n",
        "tokenized_corpus = [doc.split(\" \") for doc in corpus]\n",
        "bm25 = BM25Okapi(tokenized_corpus)\n",
        "\n",
        "query = \"What is the scientifc name for cats?\"\n",
        "tokenized_query = query.split(\" \")\n",
        "doc_scores = bm25.get_scores(tokenized_query)\n",
        "print(doc_scores)"
      ],
      "metadata": {
        "colab": {
          "base_uri": "https://localhost:8080/"
        },
        "id": "a99QqkrmhWPo",
        "outputId": "e152b768-ba51-4d82-e9a5-6636f5beedf0"
      },
      "execution_count": 69,
      "outputs": [
        {
          "output_type": "stream",
          "name": "stdout",
          "text": [
            "[0.15633023 0.20898199 0.26805423 0.9185659 ]\n"
          ]
        }
      ]
    },
    {
      "cell_type": "code",
      "source": [
        "tokenized_query"
      ],
      "metadata": {
        "colab": {
          "base_uri": "https://localhost:8080/"
        },
        "id": "35LaNP1iieTx",
        "outputId": "7a249d67-320d-458f-b566-de912c091263"
      },
      "execution_count": 5,
      "outputs": [
        {
          "output_type": "execute_result",
          "data": {
            "text/plain": [
              "['The', 'Cat']"
            ]
          },
          "metadata": {},
          "execution_count": 5
        }
      ]
    },
    {
      "cell_type": "code",
      "source": [
        "query = \"Feline\"\n",
        "tokenized_query = query.split(\" \")\n",
        "doc_scores = bm25.get_scores(tokenized_query)\n",
        "print(doc_scores)"
      ],
      "metadata": {
        "colab": {
          "base_uri": "https://localhost:8080/"
        },
        "id": "IoZ9I2VYnJWM",
        "outputId": "53cbdf86-084b-44be-bfd5-42ce6d5a4900"
      },
      "execution_count": 70,
      "outputs": [
        {
          "output_type": "stream",
          "name": "stdout",
          "text": [
            "[0. 0. 0. 0.]\n"
          ]
        }
      ]
    },
    {
      "cell_type": "markdown",
      "source": [
        "# Semantic Simalrity"
      ],
      "metadata": {
        "id": "wncDEz5TmIsy"
      }
    },
    {
      "cell_type": "code",
      "source": [
        "!pip install sentence-transformers"
      ],
      "metadata": {
        "colab": {
          "base_uri": "https://localhost:8080/"
        },
        "id": "ZikHjG-uiYhr",
        "outputId": "bacbc2c8-fe49-4b78-a31e-931aeb6f9691"
      },
      "execution_count": 71,
      "outputs": [
        {
          "output_type": "stream",
          "name": "stdout",
          "text": [
            "Requirement already satisfied: sentence-transformers in /usr/local/lib/python3.10/dist-packages (3.2.1)\n",
            "Requirement already satisfied: transformers<5.0.0,>=4.41.0 in /usr/local/lib/python3.10/dist-packages (from sentence-transformers) (4.46.3)\n",
            "Requirement already satisfied: tqdm in /usr/local/lib/python3.10/dist-packages (from sentence-transformers) (4.66.6)\n",
            "Requirement already satisfied: torch>=1.11.0 in /usr/local/lib/python3.10/dist-packages (from sentence-transformers) (2.5.1+cu121)\n",
            "Requirement already satisfied: scikit-learn in /usr/local/lib/python3.10/dist-packages (from sentence-transformers) (1.5.2)\n",
            "Requirement already satisfied: scipy in /usr/local/lib/python3.10/dist-packages (from sentence-transformers) (1.13.1)\n",
            "Requirement already satisfied: huggingface-hub>=0.20.0 in /usr/local/lib/python3.10/dist-packages (from sentence-transformers) (0.26.5)\n",
            "Requirement already satisfied: Pillow in /usr/local/lib/python3.10/dist-packages (from sentence-transformers) (11.0.0)\n",
            "Requirement already satisfied: filelock in /usr/local/lib/python3.10/dist-packages (from huggingface-hub>=0.20.0->sentence-transformers) (3.16.1)\n",
            "Requirement already satisfied: fsspec>=2023.5.0 in /usr/local/lib/python3.10/dist-packages (from huggingface-hub>=0.20.0->sentence-transformers) (2024.10.0)\n",
            "Requirement already satisfied: packaging>=20.9 in /usr/local/lib/python3.10/dist-packages (from huggingface-hub>=0.20.0->sentence-transformers) (24.2)\n",
            "Requirement already satisfied: pyyaml>=5.1 in /usr/local/lib/python3.10/dist-packages (from huggingface-hub>=0.20.0->sentence-transformers) (6.0.2)\n",
            "Requirement already satisfied: requests in /usr/local/lib/python3.10/dist-packages (from huggingface-hub>=0.20.0->sentence-transformers) (2.32.3)\n",
            "Requirement already satisfied: typing-extensions>=3.7.4.3 in /usr/local/lib/python3.10/dist-packages (from huggingface-hub>=0.20.0->sentence-transformers) (4.12.2)\n",
            "Requirement already satisfied: networkx in /usr/local/lib/python3.10/dist-packages (from torch>=1.11.0->sentence-transformers) (3.4.2)\n",
            "Requirement already satisfied: jinja2 in /usr/local/lib/python3.10/dist-packages (from torch>=1.11.0->sentence-transformers) (3.1.4)\n",
            "Requirement already satisfied: sympy==1.13.1 in /usr/local/lib/python3.10/dist-packages (from torch>=1.11.0->sentence-transformers) (1.13.1)\n",
            "Requirement already satisfied: mpmath<1.4,>=1.1.0 in /usr/local/lib/python3.10/dist-packages (from sympy==1.13.1->torch>=1.11.0->sentence-transformers) (1.3.0)\n",
            "Requirement already satisfied: numpy>=1.17 in /usr/local/lib/python3.10/dist-packages (from transformers<5.0.0,>=4.41.0->sentence-transformers) (1.26.4)\n",
            "Requirement already satisfied: regex!=2019.12.17 in /usr/local/lib/python3.10/dist-packages (from transformers<5.0.0,>=4.41.0->sentence-transformers) (2024.9.11)\n",
            "Requirement already satisfied: tokenizers<0.21,>=0.20 in /usr/local/lib/python3.10/dist-packages (from transformers<5.0.0,>=4.41.0->sentence-transformers) (0.20.3)\n",
            "Requirement already satisfied: safetensors>=0.4.1 in /usr/local/lib/python3.10/dist-packages (from transformers<5.0.0,>=4.41.0->sentence-transformers) (0.4.5)\n",
            "Requirement already satisfied: joblib>=1.2.0 in /usr/local/lib/python3.10/dist-packages (from scikit-learn->sentence-transformers) (1.4.2)\n",
            "Requirement already satisfied: threadpoolctl>=3.1.0 in /usr/local/lib/python3.10/dist-packages (from scikit-learn->sentence-transformers) (3.5.0)\n",
            "Requirement already satisfied: MarkupSafe>=2.0 in /usr/local/lib/python3.10/dist-packages (from jinja2->torch>=1.11.0->sentence-transformers) (3.0.2)\n",
            "Requirement already satisfied: charset-normalizer<4,>=2 in /usr/local/lib/python3.10/dist-packages (from requests->huggingface-hub>=0.20.0->sentence-transformers) (3.4.0)\n",
            "Requirement already satisfied: idna<4,>=2.5 in /usr/local/lib/python3.10/dist-packages (from requests->huggingface-hub>=0.20.0->sentence-transformers) (3.10)\n",
            "Requirement already satisfied: urllib3<3,>=1.21.1 in /usr/local/lib/python3.10/dist-packages (from requests->huggingface-hub>=0.20.0->sentence-transformers) (2.2.3)\n",
            "Requirement already satisfied: certifi>=2017.4.17 in /usr/local/lib/python3.10/dist-packages (from requests->huggingface-hub>=0.20.0->sentence-transformers) (2024.8.30)\n"
          ]
        }
      ]
    },
    {
      "cell_type": "code",
      "source": [
        "from sentence_transformers import SentenceTransformer\n",
        "\n",
        "# 1. Load a pretrained Sentence Transformer model\n",
        "model = SentenceTransformer('sentence-transformers/all-MiniLM-L6-v2')\n",
        "#  produce 384-dimensional dense embeddings"
      ],
      "metadata": {
        "id": "hV1CZr9lmLcu"
      },
      "execution_count": 72,
      "outputs": []
    },
    {
      "cell_type": "code",
      "source": [
        "# The documents to encode\n",
        "corpus = [\n",
        "    \"The cat, commonly referred to as the domestic cat or house cat, is a small domesticated carnivorous mammal.\",\n",
        "    \"The dog is a domesticated descendant of the wolf.\",\n",
        "    \"Humans are the most common and widespread species of primate, and the last surviving species of the genus Homo.\",\n",
        "    \"The scientific name Felis catus was proposed by Carl Linnaeus in 1758\"\n",
        "]\n",
        "\n",
        "# Calculate embeddings by calling model.encode()\n",
        "document_embeddings = model.encode(corpus)\n",
        "\n",
        "# Sanity check\n",
        "print(document_embeddings.shape)"
      ],
      "metadata": {
        "colab": {
          "base_uri": "https://localhost:8080/"
        },
        "id": "WE7y-q4kmjnS",
        "outputId": "63501dfd-922c-4fc8-8958-15c1795810f3"
      },
      "execution_count": 74,
      "outputs": [
        {
          "output_type": "stream",
          "name": "stdout",
          "text": [
            "(4, 384)\n"
          ]
        }
      ]
    },
    {
      "cell_type": "code",
      "source": [
        "query = \"What is the scientifc name for cats?\"\n",
        "query_embedding = model.encode(query)"
      ],
      "metadata": {
        "id": "4sRLXEgPmlBb"
      },
      "execution_count": 75,
      "outputs": []
    },
    {
      "cell_type": "code",
      "source": [
        "from sentence_transformers.util import cos_sim\n",
        "\n",
        "# Compute cosine_similarity between documents and query\n",
        "cos_scores = cos_sim(document_embeddings, query_embedding)\n",
        "\n",
        "print(cos_scores)"
      ],
      "metadata": {
        "colab": {
          "base_uri": "https://localhost:8080/"
        },
        "id": "6dIwufblmqIH",
        "outputId": "14c631ae-466d-4dca-90f8-c8968addf8bd"
      },
      "execution_count": 85,
      "outputs": [
        {
          "output_type": "stream",
          "name": "stdout",
          "text": [
            "tensor([[0.4007],\n",
            "        [0.3837],\n",
            "        [0.0966],\n",
            "        [0.3804]])\n"
          ]
        }
      ]
    },
    {
      "cell_type": "code",
      "source": [
        "query_embedding = model.encode(\"feline\")\n",
        "\n",
        "cos_scores = cos_sim(document_embeddings, query_embedding)\n",
        "\n",
        "print(cos_scores)"
      ],
      "metadata": {
        "colab": {
          "base_uri": "https://localhost:8080/"
        },
        "id": "1cTtYv0Hm2AF",
        "outputId": "93c18415-df5f-4066-f1f0-f2bdd2045d8b"
      },
      "execution_count": 78,
      "outputs": [
        {
          "output_type": "stream",
          "name": "stdout",
          "text": [
            "tensor([[0.4007],\n",
            "        [0.3837],\n",
            "        [0.0966],\n",
            "        [0.3804]])\n"
          ]
        }
      ]
    },
    {
      "cell_type": "markdown",
      "source": [
        "## Hybrid Similarity"
      ],
      "metadata": {
        "id": "fj7FiQ1eykC4"
      }
    },
    {
      "cell_type": "code",
      "source": [
        "import numpy as np\n",
        "\n",
        "def scores_to_ranking(scores: list[float]) -> list[int]:\n",
        "    \"\"\"Convert float scores into int rankings (rank 1 is the best)\"\"\"\n",
        "    return np.argsort(scores)[::-1] + 1\n",
        "\n",
        "\n",
        "def rrf(keyword_rank: int, semantic_rank: int) -> float:\n",
        "    \"\"\"Combine keyword rank and semantic rank into a hybrid score.\"\"\"\n",
        "    k = 60\n",
        "    rrf_score = 1 / (k + keyword_rank) + 1 / (k + semantic_rank)\n",
        "    return rrf_score"
      ],
      "metadata": {
        "id": "R2FRsoyYn0_L"
      },
      "execution_count": 97,
      "outputs": []
    },
    {
      "cell_type": "code",
      "source": [
        "bm25_ranking = scores_to_ranking(doc_scores)\n",
        "print(bm25_ranking)"
      ],
      "metadata": {
        "colab": {
          "base_uri": "https://localhost:8080/"
        },
        "id": "evuSTYL6o3-g",
        "outputId": "19bbde3c-7122-4910-a595-05e0fe8fe12b"
      },
      "execution_count": 80,
      "outputs": [
        {
          "output_type": "stream",
          "name": "stdout",
          "text": [
            "[4 3 2 1]\n"
          ]
        }
      ]
    },
    {
      "cell_type": "code",
      "source": [
        "cos_scores = cos_scores.flatten().tolist()"
      ],
      "metadata": {
        "id": "rsB4Lw4npYoP"
      },
      "execution_count": 86,
      "outputs": []
    },
    {
      "cell_type": "code",
      "source": [
        "cos_sim_ranking = scores_to_ranking(cos_scores)\n",
        "print(cos_sim_ranking)"
      ],
      "metadata": {
        "colab": {
          "base_uri": "https://localhost:8080/"
        },
        "id": "MZ_hM26fpIgN",
        "outputId": "9de3eeaf-9658-4a23-b73f-a0bd1c4fec97"
      },
      "execution_count": 87,
      "outputs": [
        {
          "output_type": "stream",
          "name": "stdout",
          "text": [
            "[1 2 4 3]\n"
          ]
        }
      ]
    },
    {
      "cell_type": "code",
      "source": [
        "hybrid_scores = []\n",
        "for i, doc in enumerate(corpus):\n",
        "    hybrid_scores.append(rrf(bm25_ranking[i], cos_sim_ranking[i]))\n",
        "hybrid_scores"
      ],
      "metadata": {
        "colab": {
          "base_uri": "https://localhost:8080/"
        },
        "id": "tTCOdVlgp3oF",
        "outputId": "66faa729-197f-4fd3-cf6a-cc8ceedfb570"
      },
      "execution_count": 88,
      "outputs": [
        {
          "output_type": "execute_result",
          "data": {
            "text/plain": [
              "[0.032018442622950824,\n",
              " 0.03200204813108039,\n",
              " 0.031754032258064516,\n",
              " 0.032266458495966696]"
            ]
          },
          "metadata": {},
          "execution_count": 88
        }
      ]
    },
    {
      "cell_type": "code",
      "source": [
        "hybrid_ranking = scores_to_ranking(hybrid_scores)\n",
        "print(hybrid_ranking)"
      ],
      "metadata": {
        "colab": {
          "base_uri": "https://localhost:8080/"
        },
        "id": "gx2PB6HTqI4z",
        "outputId": "65996b8b-1f8a-4bd6-a9ba-1df44826b586"
      },
      "execution_count": 89,
      "outputs": [
        {
          "output_type": "stream",
          "name": "stdout",
          "text": [
            "[4 1 2 3]\n"
          ]
        }
      ]
    },
    {
      "cell_type": "code",
      "source": [
        "corpus = [\n",
        "    \"The cat, commonly referred to as the domestic cat or house cat, is a small domesticated carnivorous mammal.\",\n",
        "    \"The dog is a domesticated descendant of the wolf.\",\n",
        "    \"Humans are the most common and widespread species of primate, and the last surviving species of the genus Homo.\",\n",
        "    \"The scientific name Felis catus was proposed by Carl Linnaeus in 1758\"\n",
        "]"
      ],
      "metadata": {
        "id": "r2DgQKf5qVv_"
      },
      "execution_count": 99,
      "outputs": []
    },
    {
      "cell_type": "code",
      "source": [
        "from rank_bm25 import BM25Okapi\n",
        "from sentence_transformers import SentenceTransformer\n",
        "from sentence_transformers.util import cos_sim\n",
        "\n",
        "model = SentenceTransformer(\"sentence-transformers/all-MiniLM-L6-v2\")\n",
        "\n",
        "def hybrid_search(\n",
        "    query: str, corpus: list[str], encoder_model: SentenceTransformer\n",
        ") -> list[int]:\n",
        "    # bm25\n",
        "    tokenized_corpus = [doc.split(\" \") for doc in corpus]\n",
        "    tokenized_query = query.split(\" \")\n",
        "    bm25 = BM25Okapi(tokenized_corpus)\n",
        "    bm25_scores = bm25.get_scores(tokenized_query)\n",
        "    bm25_ranking = scores_to_ranking(bm25_scores)\n",
        "    print(\"Keyword Ranking\", bm25_ranking)\n",
        "\n",
        "    # embeddings\n",
        "    document_embeddings = model.encode(corpus)\n",
        "    query_embedding = model.encode(query)\n",
        "    cos_sim_scores = cos_sim(document_embeddings, query_embedding).flatten().tolist()\n",
        "    cos_sim_ranking = scores_to_ranking(cos_sim_scores)\n",
        "    print(\"Semantic Ranking\", cos_sim_ranking)\n",
        "\n",
        "    # combine rankings into RRF scores\n",
        "    hybrid_scores = []\n",
        "    for i, doc in enumerate(corpus):\n",
        "        document_ranking = rrf(bm25_ranking[i], cos_sim_ranking[i])\n",
        "        print(f\"Document {i} has the rrf score {document_ranking}\")\n",
        "        hybrid_scores.append(document_ranking)\n",
        "\n",
        "    # convert RRF scores into final rankings\n",
        "    hybrid_ranking = scores_to_ranking(hybrid_scores)\n",
        "    return hybrid_ranking"
      ],
      "metadata": {
        "id": "G3QliEy2q7gg"
      },
      "execution_count": 100,
      "outputs": []
    },
    {
      "cell_type": "code",
      "source": [
        "hybrid_ranking = hybrid_search(\n",
        "    query=\"Is human are animal?\", corpus=corpus, encoder_model=model\n",
        ")\n",
        "print(hybrid_ranking)"
      ],
      "metadata": {
        "colab": {
          "base_uri": "https://localhost:8080/"
        },
        "id": "SlRStIPXtafZ",
        "outputId": "9a454472-ac98-45e6-8f1e-2b4b036222c9"
      },
      "execution_count": 101,
      "outputs": [
        {
          "output_type": "stream",
          "name": "stdout",
          "text": [
            "Keyword Ranking [3 4 2 1]\n",
            "Semantic Ranking [3 2 1 4]\n",
            "Document 0 has the rrf score 0.031746031746031744\n",
            "Document 1 has the rrf score 0.031754032258064516\n",
            "Document 2 has the rrf score 0.03252247488101534\n",
            "Document 3 has the rrf score 0.032018442622950824\n",
            "[3 4 2 1]\n"
          ]
        }
      ]
    },
    {
      "cell_type": "code",
      "source": [
        "corpus = [\n",
        "    \"The cat, commonly referred to as the domestic cat or house cat, is a small domesticated carnivorous mammal.\",\n",
        "    \"The dog is a domesticated descendant of the wolf.\",\n",
        "    \"Humans are the most common and widespread species of primate, and the last surviving species of the genus Homo.\",\n",
        "    \"The scientific name Felis catus was proposed by Carl Linnaeus in 1758\"\n",
        "]"
      ],
      "metadata": {
        "id": "2VAG1F11t4w6"
      },
      "execution_count": null,
      "outputs": []
    }
  ]
}